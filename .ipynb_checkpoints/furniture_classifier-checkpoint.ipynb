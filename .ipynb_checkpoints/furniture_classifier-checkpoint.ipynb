{
 "cells": [
  {
   "cell_type": "code",
   "execution_count": 1,
   "id": "9e785928-c72b-4828-80a0-271e56a5742e",
   "metadata": {},
   "outputs": [],
   "source": [
    "#!pip install gradio"
   ]
  },
  {
   "cell_type": "markdown",
   "id": "f89ddaef-1396-4885-bce2-46adced3e5c3",
   "metadata": {},
   "source": [
    "# Imports"
   ]
  },
  {
   "cell_type": "code",
   "execution_count": 2,
   "id": "39611e91-ded0-4289-8ca6-84857d199df6",
   "metadata": {},
   "outputs": [],
   "source": [
    "import numpy as np\n",
    "import pandas as pd"
   ]
  },
  {
   "cell_type": "markdown",
   "id": "49c97c72-2509-42ae-b754-5878c2b483fb",
   "metadata": {},
   "source": [
    "# Making web application interface"
   ]
  },
  {
   "cell_type": "code",
   "execution_count": null,
   "id": "a225f75a-3c7b-42f9-af62-d00f7bcbd566",
   "metadata": {},
   "outputs": [
    {
     "ename": "SyntaxError",
     "evalue": "positional argument follows keyword argument (4266808942.py, line 7)",
     "output_type": "error",
     "traceback": [
      "\u001b[1;36m  Input \u001b[1;32mIn [3]\u001b[1;36m\u001b[0m\n\u001b[1;33m    demo = gr.Interface(upload_image, outputs=\"text\", \"image\")\u001b[0m\n\u001b[1;37m                                                             ^\u001b[0m\n\u001b[1;31mSyntaxError\u001b[0m\u001b[1;31m:\u001b[0m positional argument follows keyword argument\n"
     ]
    }
   ],
   "source": [
    "import gradio as gr\n",
    "\n",
    "def upload_image(input_img):\n",
    "\n",
    "    return input_img\n",
    "\n",
    "demo = gr.Interface(upload_image, gr.Image(shape=(400, 300)), \"image\")\n",
    "demo.launch()"
   ]
  }
 ],
 "metadata": {
  "kernelspec": {
   "display_name": "Python 3 (ipykernel)",
   "language": "python",
   "name": "python3"
  },
  "language_info": {
   "codemirror_mode": {
    "name": "ipython",
    "version": 3
   },
   "file_extension": ".py",
   "mimetype": "text/x-python",
   "name": "python",
   "nbconvert_exporter": "python",
   "pygments_lexer": "ipython3",
   "version": "3.9.12"
  }
 },
 "nbformat": 4,
 "nbformat_minor": 5
}
